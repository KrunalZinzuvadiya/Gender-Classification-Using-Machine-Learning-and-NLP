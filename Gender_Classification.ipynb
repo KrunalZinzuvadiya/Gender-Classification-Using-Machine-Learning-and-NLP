{
 "cells": [
  {
   "cell_type": "markdown",
   "id": "b7f0d7ac-8a0f-4594-9036-b3466053966e",
   "metadata": {},
   "source": [
    "# Name: - Krunal Zinzuvadiya\n",
    "# PRN: 23070243060\n",
    "# Subject: - Introduction to NLP"
   ]
  },
  {
   "cell_type": "code",
   "execution_count": 1,
   "id": "1ce780a4-32ee-4a70-b8d7-e3a4fafd1d1e",
   "metadata": {},
   "outputs": [],
   "source": [
    "import nltk.classify.util\n",
    "from nltk.corpus import names\n",
    "from nltk.classify import NaiveBayesClassifier\n",
    "from nltk import classify"
   ]
  },
  {
   "cell_type": "markdown",
   "id": "b024749d-df08-4bf1-a2d0-a7dc0e058e23",
   "metadata": {},
   "source": [
    "# Feature Exctraction using last word"
   ]
  },
  {
   "cell_type": "code",
   "execution_count": 2,
   "id": "8fd6dd3f-8c54-48ee-8127-a11f861b9fe8",
   "metadata": {},
   "outputs": [],
   "source": [
    "def feature_extraction(word):\n",
    "    return {'last_letter' : word[-1]}"
   ]
  },
  {
   "cell_type": "code",
   "execution_count": 3,
   "id": "2c37571c-cd13-48bf-b6e1-e89be2268fda",
   "metadata": {},
   "outputs": [
    {
     "data": {
      "text/plain": [
       "{'last_letter': 'l'}"
      ]
     },
     "execution_count": 3,
     "metadata": {},
     "output_type": "execute_result"
    }
   ],
   "source": [
    "feature_extraction(\"Krunal\")"
   ]
  },
  {
   "cell_type": "code",
   "execution_count": 4,
   "id": "8ba9f816-6feb-485e-9354-68a6fb16a559",
   "metadata": {},
   "outputs": [],
   "source": [
    "#Load Data and training\n",
    "names_list = ([(name, 'male') for name in names.words('male.txt')] +\n",
    "        [(name, 'female') for name in names.words('female.txt')])"
   ]
  },
  {
   "cell_type": "code",
   "execution_count": 5,
   "id": "85fc6ac4-8ca5-4c54-aa50-131242748df6",
   "metadata": {},
   "outputs": [
    {
     "data": {
      "text/plain": [
       "[('Aamir', 'male'),\n",
       " ('Aaron', 'male'),\n",
       " ('Abbey', 'male'),\n",
       " ('Abbie', 'male'),\n",
       " ('Abbot', 'male'),\n",
       " ('Abbott', 'male'),\n",
       " ('Abby', 'male'),\n",
       " ('Abdel', 'male'),\n",
       " ('Abdul', 'male'),\n",
       " ('Abdulkarim', 'male')]"
      ]
     },
     "execution_count": 5,
     "metadata": {},
     "output_type": "execute_result"
    }
   ],
   "source": [
    "names_list[:10]"
   ]
  },
  {
   "cell_type": "code",
   "execution_count": 6,
   "id": "c36239d7-f155-4dc7-9df3-1078977696cb",
   "metadata": {},
   "outputs": [],
   "source": [
    "featuresets_last_word = [(feature_extraction(n), g) for (n,g) in names_list]"
   ]
  },
  {
   "cell_type": "code",
   "execution_count": 7,
   "id": "971ba00d-aa0c-450a-a95b-09b22e1e6f16",
   "metadata": {},
   "outputs": [
    {
     "data": {
      "text/plain": [
       "[({'last_letter': 'r'}, 'male'),\n",
       " ({'last_letter': 'n'}, 'male'),\n",
       " ({'last_letter': 'y'}, 'male'),\n",
       " ({'last_letter': 'e'}, 'male'),\n",
       " ({'last_letter': 't'}, 'male'),\n",
       " ({'last_letter': 't'}, 'male'),\n",
       " ({'last_letter': 'y'}, 'male'),\n",
       " ({'last_letter': 'l'}, 'male'),\n",
       " ({'last_letter': 'l'}, 'male'),\n",
       " ({'last_letter': 'm'}, 'male')]"
      ]
     },
     "execution_count": 7,
     "metadata": {},
     "output_type": "execute_result"
    }
   ],
   "source": [
    "featuresets_last_word[:10]"
   ]
  },
  {
   "cell_type": "code",
   "execution_count": 8,
   "id": "9d55a904-f1cc-4acf-b98b-97f0a3255528",
   "metadata": {},
   "outputs": [],
   "source": [
    "classifier = nltk.NaiveBayesClassifier.train(featuresets_last_word)"
   ]
  },
  {
   "cell_type": "code",
   "execution_count": 10,
   "id": "20279749-dc29-476b-9a05-9dfa605f2039",
   "metadata": {},
   "outputs": [
    {
     "name": "stdin",
     "output_type": "stream",
     "text": [
      "name : Niraj\n"
     ]
    },
    {
     "name": "stdout",
     "output_type": "stream",
     "text": [
      "male\n"
     ]
    },
    {
     "name": "stdin",
     "output_type": "stream",
     "text": [
      "name : Bhumika\n"
     ]
    },
    {
     "name": "stdout",
     "output_type": "stream",
     "text": [
      "female\n"
     ]
    },
    {
     "name": "stdin",
     "output_type": "stream",
     "text": [
      "name : exit\n"
     ]
    },
    {
     "name": "stdout",
     "output_type": "stream",
     "text": [
      "exit\n"
     ]
    }
   ],
   "source": [
    "# Predict the data\n",
    "names_pred = \"\"\n",
    "while names_pred != \"exit\":\n",
    "    names_pred = input(\"name :\")\n",
    "    if names_pred == \"exit\":\n",
    "        print(\"exit\")\n",
    "        break\n",
    "    else:\n",
    "        print(classifier.classify(feature_extraction(names_pred)))"
   ]
  },
  {
   "cell_type": "markdown",
   "id": "114a7bc5-9c4c-42a2-b050-c5346fa980c8",
   "metadata": {},
   "source": [
    "# Feature Exctraction using last two words"
   ]
  },
  {
   "cell_type": "code",
   "execution_count": 11,
   "id": "4ae1a404-102a-491a-b775-cfb6dab43b72",
   "metadata": {},
   "outputs": [],
   "source": [
    "# Feature Exctraction using last two words\n",
    "def feature_extraction_two(word):\n",
    "    return {'last_two_letter' : word[-2:]}"
   ]
  },
  {
   "cell_type": "code",
   "execution_count": 12,
   "id": "ddde8167-b4f5-4bd4-b050-bc56ee870839",
   "metadata": {},
   "outputs": [
    {
     "data": {
      "text/plain": [
       "{'last_two_letter': 'al'}"
      ]
     },
     "execution_count": 12,
     "metadata": {},
     "output_type": "execute_result"
    }
   ],
   "source": [
    "feature_extraction_two(\"Krunal\")"
   ]
  },
  {
   "cell_type": "code",
   "execution_count": 13,
   "id": "db82273b-d1e4-40c6-9734-fc37059520ff",
   "metadata": {},
   "outputs": [],
   "source": [
    "featuresets_last_two_word = [(feature_extraction_two(n), g) for (n,g) in names_list]"
   ]
  },
  {
   "cell_type": "code",
   "execution_count": 14,
   "id": "292537ce-1ae1-46df-9d36-5e3ac9c46bf2",
   "metadata": {},
   "outputs": [
    {
     "data": {
      "text/plain": [
       "[({'last_two_letter': 'ir'}, 'male'),\n",
       " ({'last_two_letter': 'on'}, 'male'),\n",
       " ({'last_two_letter': 'ey'}, 'male'),\n",
       " ({'last_two_letter': 'ie'}, 'male'),\n",
       " ({'last_two_letter': 'ot'}, 'male'),\n",
       " ({'last_two_letter': 'tt'}, 'male'),\n",
       " ({'last_two_letter': 'by'}, 'male'),\n",
       " ({'last_two_letter': 'el'}, 'male'),\n",
       " ({'last_two_letter': 'ul'}, 'male'),\n",
       " ({'last_two_letter': 'im'}, 'male')]"
      ]
     },
     "execution_count": 14,
     "metadata": {},
     "output_type": "execute_result"
    }
   ],
   "source": [
    "featuresets_last_two_word[:10]"
   ]
  },
  {
   "cell_type": "code",
   "execution_count": 15,
   "id": "02100361-c415-41fd-a872-2bf9115a0d42",
   "metadata": {},
   "outputs": [],
   "source": [
    "classifier_two = nltk.NaiveBayesClassifier.train(featuresets_last_two_word)"
   ]
  },
  {
   "cell_type": "code",
   "execution_count": 16,
   "id": "097d27e8-ffba-4b41-a366-4108c1076198",
   "metadata": {},
   "outputs": [
    {
     "name": "stdin",
     "output_type": "stream",
     "text": [
      "name : Niraj\n"
     ]
    },
    {
     "name": "stdout",
     "output_type": "stream",
     "text": [
      "male\n"
     ]
    },
    {
     "name": "stdin",
     "output_type": "stream",
     "text": [
      "name : Bhumika\n"
     ]
    },
    {
     "name": "stdout",
     "output_type": "stream",
     "text": [
      "female\n"
     ]
    },
    {
     "name": "stdin",
     "output_type": "stream",
     "text": [
      "name : exit\n"
     ]
    },
    {
     "name": "stdout",
     "output_type": "stream",
     "text": [
      "exit\n"
     ]
    }
   ],
   "source": [
    "# Predict the data\n",
    "names_pred = \"\"\n",
    "while names_pred != \"exit\":\n",
    "    names_pred = input(\"name :\")\n",
    "    if names_pred == \"exit\":\n",
    "        print(\"exit\")\n",
    "        break\n",
    "    else:\n",
    "        print(classifier_two.classify(feature_extraction_two(names_pred)))"
   ]
  },
  {
   "cell_type": "markdown",
   "id": "fb16f957-2076-4c8d-ae19-d4f999358dac",
   "metadata": {},
   "source": [
    "# Using the Public Datasets"
   ]
  },
  {
   "cell_type": "code",
   "execution_count": 17,
   "id": "5ce65f5c-19be-48b8-80ef-b635460e82db",
   "metadata": {},
   "outputs": [],
   "source": [
    "from sklearn.model_selection import train_test_split\n",
    "from nltk.classify import apply_features"
   ]
  },
  {
   "cell_type": "code",
   "execution_count": 18,
   "id": "92f90fe3-45f0-49df-8070-c9f08b1e0a66",
   "metadata": {},
   "outputs": [],
   "source": [
    "import pandas as pd\n",
    "df = pd.read_csv(\"F:\\\\Sem 3\\\\Introduction to Natural language Processing\\\\Gender Prediction\\\\name_gender.csv\")"
   ]
  },
  {
   "cell_type": "code",
   "execution_count": 19,
   "id": "429fc58a-983b-488f-965a-05ac39b998e5",
   "metadata": {},
   "outputs": [
    {
     "data": {
      "text/html": [
       "<div>\n",
       "<style scoped>\n",
       "    .dataframe tbody tr th:only-of-type {\n",
       "        vertical-align: middle;\n",
       "    }\n",
       "\n",
       "    .dataframe tbody tr th {\n",
       "        vertical-align: top;\n",
       "    }\n",
       "\n",
       "    .dataframe thead th {\n",
       "        text-align: right;\n",
       "    }\n",
       "</style>\n",
       "<table border=\"1\" class=\"dataframe\">\n",
       "  <thead>\n",
       "    <tr style=\"text-align: right;\">\n",
       "      <th></th>\n",
       "      <th>Aaban</th>\n",
       "      <th>M</th>\n",
       "      <th>1</th>\n",
       "    </tr>\n",
       "  </thead>\n",
       "  <tbody>\n",
       "    <tr>\n",
       "      <th>0</th>\n",
       "      <td>Aabha</td>\n",
       "      <td>F</td>\n",
       "      <td>1.0</td>\n",
       "    </tr>\n",
       "    <tr>\n",
       "      <th>1</th>\n",
       "      <td>Aabid</td>\n",
       "      <td>M</td>\n",
       "      <td>1.0</td>\n",
       "    </tr>\n",
       "    <tr>\n",
       "      <th>2</th>\n",
       "      <td>Aabriella</td>\n",
       "      <td>F</td>\n",
       "      <td>1.0</td>\n",
       "    </tr>\n",
       "    <tr>\n",
       "      <th>3</th>\n",
       "      <td>Aada</td>\n",
       "      <td>F</td>\n",
       "      <td>1.0</td>\n",
       "    </tr>\n",
       "    <tr>\n",
       "      <th>4</th>\n",
       "      <td>Aadam</td>\n",
       "      <td>M</td>\n",
       "      <td>1.0</td>\n",
       "    </tr>\n",
       "  </tbody>\n",
       "</table>\n",
       "</div>"
      ],
      "text/plain": [
       "       Aaban  M    1\n",
       "0      Aabha  F  1.0\n",
       "1      Aabid  M  1.0\n",
       "2  Aabriella  F  1.0\n",
       "3       Aada  F  1.0\n",
       "4      Aadam  M  1.0"
      ]
     },
     "execution_count": 19,
     "metadata": {},
     "output_type": "execute_result"
    }
   ],
   "source": [
    "df.head()"
   ]
  },
  {
   "cell_type": "code",
   "execution_count": 20,
   "id": "cb2c8da4-1a09-49ca-8c35-df82922ced38",
   "metadata": {},
   "outputs": [
    {
     "data": {
      "text/html": [
       "<div>\n",
       "<style scoped>\n",
       "    .dataframe tbody tr th:only-of-type {\n",
       "        vertical-align: middle;\n",
       "    }\n",
       "\n",
       "    .dataframe tbody tr th {\n",
       "        vertical-align: top;\n",
       "    }\n",
       "\n",
       "    .dataframe thead th {\n",
       "        text-align: right;\n",
       "    }\n",
       "</style>\n",
       "<table border=\"1\" class=\"dataframe\">\n",
       "  <thead>\n",
       "    <tr style=\"text-align: right;\">\n",
       "      <th></th>\n",
       "      <th>name</th>\n",
       "      <th>gender</th>\n",
       "    </tr>\n",
       "  </thead>\n",
       "  <tbody>\n",
       "    <tr>\n",
       "      <th>0</th>\n",
       "      <td>Aabha</td>\n",
       "      <td>F</td>\n",
       "    </tr>\n",
       "    <tr>\n",
       "      <th>1</th>\n",
       "      <td>Aabid</td>\n",
       "      <td>M</td>\n",
       "    </tr>\n",
       "    <tr>\n",
       "      <th>2</th>\n",
       "      <td>Aabriella</td>\n",
       "      <td>F</td>\n",
       "    </tr>\n",
       "    <tr>\n",
       "      <th>3</th>\n",
       "      <td>Aada</td>\n",
       "      <td>F</td>\n",
       "    </tr>\n",
       "    <tr>\n",
       "      <th>4</th>\n",
       "      <td>Aadam</td>\n",
       "      <td>M</td>\n",
       "    </tr>\n",
       "    <tr>\n",
       "      <th>...</th>\n",
       "      <td>...</td>\n",
       "      <td>...</td>\n",
       "    </tr>\n",
       "    <tr>\n",
       "      <th>95019</th>\n",
       "      <td>Zyvion</td>\n",
       "      <td>M</td>\n",
       "    </tr>\n",
       "    <tr>\n",
       "      <th>95020</th>\n",
       "      <td>Zyvon</td>\n",
       "      <td>M</td>\n",
       "    </tr>\n",
       "    <tr>\n",
       "      <th>95021</th>\n",
       "      <td>Zyyanna</td>\n",
       "      <td>F</td>\n",
       "    </tr>\n",
       "    <tr>\n",
       "      <th>95022</th>\n",
       "      <td>Zyyon</td>\n",
       "      <td>M</td>\n",
       "    </tr>\n",
       "    <tr>\n",
       "      <th>95023</th>\n",
       "      <td>Zzyzx</td>\n",
       "      <td>M</td>\n",
       "    </tr>\n",
       "  </tbody>\n",
       "</table>\n",
       "<p>95024 rows × 2 columns</p>\n",
       "</div>"
      ],
      "text/plain": [
       "            name gender\n",
       "0          Aabha      F\n",
       "1          Aabid      M\n",
       "2      Aabriella      F\n",
       "3           Aada      F\n",
       "4          Aadam      M\n",
       "...          ...    ...\n",
       "95019     Zyvion      M\n",
       "95020      Zyvon      M\n",
       "95021    Zyyanna      F\n",
       "95022      Zyyon      M\n",
       "95023      Zzyzx      M\n",
       "\n",
       "[95024 rows x 2 columns]"
      ]
     },
     "execution_count": 20,
     "metadata": {},
     "output_type": "execute_result"
    }
   ],
   "source": [
    "df_new = df.iloc[:,[0,1]].dropna()\n",
    "df_new.columns = ['name', 'gender']\n",
    "df_new"
   ]
  },
  {
   "cell_type": "code",
   "execution_count": 21,
   "id": "a135cadd-be1b-469e-b23b-f74278f77408",
   "metadata": {},
   "outputs": [],
   "source": [
    "def feature_extraction_csv(word):\n",
    "    return {'last_letter': word[-1].lower()}"
   ]
  },
  {
   "cell_type": "code",
   "execution_count": 22,
   "id": "45681ccd-7a4f-4661-b314-66333e513d0d",
   "metadata": {},
   "outputs": [],
   "source": [
    "# Apply features\n",
    "featurelist_lastword_csv = [(feature_extraction_csv(n),g) for (n,g) in zip(df_new['name'], df_new['gender'])]"
   ]
  },
  {
   "cell_type": "code",
   "execution_count": 23,
   "id": "cdb3b413-df0a-4410-826a-b6d315ca7936",
   "metadata": {},
   "outputs": [
    {
     "data": {
      "text/plain": [
       "[({'last_letter': 'a'}, 'F'),\n",
       " ({'last_letter': 'd'}, 'M'),\n",
       " ({'last_letter': 'a'}, 'F'),\n",
       " ({'last_letter': 'a'}, 'F'),\n",
       " ({'last_letter': 'm'}, 'M'),\n",
       " ({'last_letter': 'n'}, 'M'),\n",
       " ({'last_letter': 'h'}, 'M'),\n",
       " ({'last_letter': 'n'}, 'M'),\n",
       " ({'last_letter': 'h'}, 'M'),\n",
       " ({'last_letter': 'v'}, 'M')]"
      ]
     },
     "execution_count": 23,
     "metadata": {},
     "output_type": "execute_result"
    }
   ],
   "source": [
    "featurelist_lastword_csv[:10]"
   ]
  },
  {
   "cell_type": "code",
   "execution_count": 24,
   "id": "7ad4de8e-322c-4a16-9c96-394111c50f2d",
   "metadata": {},
   "outputs": [],
   "source": [
    "train_data, test_data = train_test_split(featurelist_lastword_csv, test_size = 0.2, random_state = 42)"
   ]
  },
  {
   "cell_type": "code",
   "execution_count": 25,
   "id": "2418a8b6-6b56-49d5-9838-80264cf6ffd1",
   "metadata": {},
   "outputs": [],
   "source": [
    "classifier_csv = nltk.NaiveBayesClassifier.train(featurelist_lastword_csv)"
   ]
  },
  {
   "cell_type": "code",
   "execution_count": 26,
   "id": "9308c427-335b-4468-8fcd-d82e15a104f7",
   "metadata": {},
   "outputs": [],
   "source": [
    "accuracy = classify.accuracy(classifier_csv, test_data)"
   ]
  },
  {
   "cell_type": "code",
   "execution_count": 27,
   "id": "799e41f1-517d-4265-a5de-ff37c033ece2",
   "metadata": {},
   "outputs": [
    {
     "name": "stdout",
     "output_type": "stream",
     "text": [
      "0.797737437516443\n"
     ]
    }
   ],
   "source": [
    "print(accuracy)"
   ]
  },
  {
   "cell_type": "code",
   "execution_count": 28,
   "id": "72692839-ef8a-4748-a6b7-a8150666d4d0",
   "metadata": {},
   "outputs": [
    {
     "name": "stdout",
     "output_type": "stream",
     "text": [
      "Most Informative Features\n",
      "             last_letter = 'k'                 M : F      =     30.5 : 1.0\n",
      "             last_letter = 'a'                 F : M      =     17.7 : 1.0\n",
      "             last_letter = 'p'                 M : F      =     17.1 : 1.0\n",
      "             last_letter = 'f'                 M : F      =     16.9 : 1.0\n",
      "             last_letter = 'v'                 M : F      =     16.0 : 1.0\n"
     ]
    }
   ],
   "source": [
    "classifier_csv.show_most_informative_features(5)"
   ]
  },
  {
   "cell_type": "code",
   "execution_count": 30,
   "id": "b3bdbe8b-20c2-4150-b728-ec80cc1e2d64",
   "metadata": {},
   "outputs": [
    {
     "name": "stdin",
     "output_type": "stream",
     "text": [
      "name : Niraj\n"
     ]
    },
    {
     "name": "stdout",
     "output_type": "stream",
     "text": [
      "M\n"
     ]
    },
    {
     "name": "stdin",
     "output_type": "stream",
     "text": [
      "name : Krunal\n"
     ]
    },
    {
     "name": "stdout",
     "output_type": "stream",
     "text": [
      "M\n"
     ]
    },
    {
     "name": "stdin",
     "output_type": "stream",
     "text": [
      "name : Mayur\n"
     ]
    },
    {
     "name": "stdout",
     "output_type": "stream",
     "text": [
      "M\n"
     ]
    },
    {
     "name": "stdin",
     "output_type": "stream",
     "text": [
      "name : Akancha\n"
     ]
    },
    {
     "name": "stdout",
     "output_type": "stream",
     "text": [
      "F\n"
     ]
    },
    {
     "name": "stdin",
     "output_type": "stream",
     "text": [
      "name : Bhumika\n"
     ]
    },
    {
     "name": "stdout",
     "output_type": "stream",
     "text": [
      "F\n"
     ]
    },
    {
     "name": "stdin",
     "output_type": "stream",
     "text": [
      "name : Vedika\n"
     ]
    },
    {
     "name": "stdout",
     "output_type": "stream",
     "text": [
      "F\n"
     ]
    },
    {
     "name": "stdin",
     "output_type": "stream",
     "text": [
      "name : exit\n"
     ]
    },
    {
     "name": "stdout",
     "output_type": "stream",
     "text": [
      "exit\n"
     ]
    }
   ],
   "source": [
    "# Predict the data\n",
    "names_pred = \"\"\n",
    "while names_pred != \"exit\":\n",
    "    names_pred = input(\"name :\")\n",
    "    if names_pred == \"exit\":\n",
    "        print(\"exit\")\n",
    "        break\n",
    "    else:\n",
    "        print(classifier_csv.classify(feature_extraction_csv(names_pred)))"
   ]
  },
  {
   "cell_type": "markdown",
   "id": "e348bff2-ea84-42fe-8280-57110ca775f2",
   "metadata": {},
   "source": [
    "# Using Sklearn"
   ]
  },
  {
   "cell_type": "code",
   "execution_count": 31,
   "id": "3a25c060-5ddd-4723-803c-ae213a7ed832",
   "metadata": {},
   "outputs": [],
   "source": [
    "from sklearn.naive_bayes import MultinomialNB\n",
    "from sklearn.feature_extraction.text import CountVectorizer\n",
    "from sklearn.metrics import accuracy_score\n",
    "import spacy"
   ]
  },
  {
   "cell_type": "code",
   "execution_count": 32,
   "id": "6dcc4866-5385-4de8-a50e-cea15c94bd1a",
   "metadata": {},
   "outputs": [],
   "source": [
    "from spacy.tokens import DocBin\n",
    "from sklearn.pipeline import make_pipeline"
   ]
  },
  {
   "cell_type": "code",
   "execution_count": 33,
   "id": "653b2d79-6b9f-47b1-b026-be06f1ce223d",
   "metadata": {},
   "outputs": [],
   "source": [
    "import pandas as pd\n",
    "df = pd.read_csv(\"F:\\\\Sem 3\\\\Introduction to Natural language Processing\\\\Gender Prediction\\\\name_gender.csv\")"
   ]
  },
  {
   "cell_type": "code",
   "execution_count": 34,
   "id": "0e8add13-5e0f-4e7c-9101-ac82a4fcc299",
   "metadata": {},
   "outputs": [
    {
     "data": {
      "text/html": [
       "<div>\n",
       "<style scoped>\n",
       "    .dataframe tbody tr th:only-of-type {\n",
       "        vertical-align: middle;\n",
       "    }\n",
       "\n",
       "    .dataframe tbody tr th {\n",
       "        vertical-align: top;\n",
       "    }\n",
       "\n",
       "    .dataframe thead th {\n",
       "        text-align: right;\n",
       "    }\n",
       "</style>\n",
       "<table border=\"1\" class=\"dataframe\">\n",
       "  <thead>\n",
       "    <tr style=\"text-align: right;\">\n",
       "      <th></th>\n",
       "      <th>name</th>\n",
       "      <th>gender</th>\n",
       "    </tr>\n",
       "  </thead>\n",
       "  <tbody>\n",
       "    <tr>\n",
       "      <th>0</th>\n",
       "      <td>Aabha</td>\n",
       "      <td>F</td>\n",
       "    </tr>\n",
       "    <tr>\n",
       "      <th>1</th>\n",
       "      <td>Aabid</td>\n",
       "      <td>M</td>\n",
       "    </tr>\n",
       "    <tr>\n",
       "      <th>2</th>\n",
       "      <td>Aabriella</td>\n",
       "      <td>F</td>\n",
       "    </tr>\n",
       "    <tr>\n",
       "      <th>3</th>\n",
       "      <td>Aada</td>\n",
       "      <td>F</td>\n",
       "    </tr>\n",
       "    <tr>\n",
       "      <th>4</th>\n",
       "      <td>Aadam</td>\n",
       "      <td>M</td>\n",
       "    </tr>\n",
       "    <tr>\n",
       "      <th>...</th>\n",
       "      <td>...</td>\n",
       "      <td>...</td>\n",
       "    </tr>\n",
       "    <tr>\n",
       "      <th>95019</th>\n",
       "      <td>Zyvion</td>\n",
       "      <td>M</td>\n",
       "    </tr>\n",
       "    <tr>\n",
       "      <th>95020</th>\n",
       "      <td>Zyvon</td>\n",
       "      <td>M</td>\n",
       "    </tr>\n",
       "    <tr>\n",
       "      <th>95021</th>\n",
       "      <td>Zyyanna</td>\n",
       "      <td>F</td>\n",
       "    </tr>\n",
       "    <tr>\n",
       "      <th>95022</th>\n",
       "      <td>Zyyon</td>\n",
       "      <td>M</td>\n",
       "    </tr>\n",
       "    <tr>\n",
       "      <th>95023</th>\n",
       "      <td>Zzyzx</td>\n",
       "      <td>M</td>\n",
       "    </tr>\n",
       "  </tbody>\n",
       "</table>\n",
       "<p>95024 rows × 2 columns</p>\n",
       "</div>"
      ],
      "text/plain": [
       "            name gender\n",
       "0          Aabha      F\n",
       "1          Aabid      M\n",
       "2      Aabriella      F\n",
       "3           Aada      F\n",
       "4          Aadam      M\n",
       "...          ...    ...\n",
       "95019     Zyvion      M\n",
       "95020      Zyvon      M\n",
       "95021    Zyyanna      F\n",
       "95022      Zyyon      M\n",
       "95023      Zzyzx      M\n",
       "\n",
       "[95024 rows x 2 columns]"
      ]
     },
     "execution_count": 34,
     "metadata": {},
     "output_type": "execute_result"
    }
   ],
   "source": [
    "df_new = df.iloc[:,[0,1]].dropna()\n",
    "df_new.columns = ['name', 'gender']\n",
    "df_new"
   ]
  },
  {
   "cell_type": "code",
   "execution_count": 35,
   "id": "e130f130-6581-4f85-a90a-9875330d8891",
   "metadata": {},
   "outputs": [],
   "source": [
    "#Split the data\n",
    "x_train, x_test, y_train, y_test = train_test_split(df_new['name'], df_new['gender'])"
   ]
  },
  {
   "cell_type": "code",
   "execution_count": 36,
   "id": "0797091b-37a7-45ce-9b63-b8afc196f864",
   "metadata": {},
   "outputs": [],
   "source": [
    "#Using the last letter feature extraction\n",
    "vectorize = CountVectorizer(analyzer = 'char', ngram_range = (1,1), max_features = 1)\n",
    "model_sk = make_pipeline(vectorize, MultinomialNB())"
   ]
  },
  {
   "cell_type": "code",
   "execution_count": 37,
   "id": "40abdb54-ca8a-456a-ab7d-c68b42ec9d72",
   "metadata": {},
   "outputs": [
    {
     "data": {
      "text/html": [
       "<style>#sk-container-id-1 {\n",
       "  /* Definition of color scheme common for light and dark mode */\n",
       "  --sklearn-color-text: black;\n",
       "  --sklearn-color-line: gray;\n",
       "  /* Definition of color scheme for unfitted estimators */\n",
       "  --sklearn-color-unfitted-level-0: #fff5e6;\n",
       "  --sklearn-color-unfitted-level-1: #f6e4d2;\n",
       "  --sklearn-color-unfitted-level-2: #ffe0b3;\n",
       "  --sklearn-color-unfitted-level-3: chocolate;\n",
       "  /* Definition of color scheme for fitted estimators */\n",
       "  --sklearn-color-fitted-level-0: #f0f8ff;\n",
       "  --sklearn-color-fitted-level-1: #d4ebff;\n",
       "  --sklearn-color-fitted-level-2: #b3dbfd;\n",
       "  --sklearn-color-fitted-level-3: cornflowerblue;\n",
       "\n",
       "  /* Specific color for light theme */\n",
       "  --sklearn-color-text-on-default-background: var(--sg-text-color, var(--theme-code-foreground, var(--jp-content-font-color1, black)));\n",
       "  --sklearn-color-background: var(--sg-background-color, var(--theme-background, var(--jp-layout-color0, white)));\n",
       "  --sklearn-color-border-box: var(--sg-text-color, var(--theme-code-foreground, var(--jp-content-font-color1, black)));\n",
       "  --sklearn-color-icon: #696969;\n",
       "\n",
       "  @media (prefers-color-scheme: dark) {\n",
       "    /* Redefinition of color scheme for dark theme */\n",
       "    --sklearn-color-text-on-default-background: var(--sg-text-color, var(--theme-code-foreground, var(--jp-content-font-color1, white)));\n",
       "    --sklearn-color-background: var(--sg-background-color, var(--theme-background, var(--jp-layout-color0, #111)));\n",
       "    --sklearn-color-border-box: var(--sg-text-color, var(--theme-code-foreground, var(--jp-content-font-color1, white)));\n",
       "    --sklearn-color-icon: #878787;\n",
       "  }\n",
       "}\n",
       "\n",
       "#sk-container-id-1 {\n",
       "  color: var(--sklearn-color-text);\n",
       "}\n",
       "\n",
       "#sk-container-id-1 pre {\n",
       "  padding: 0;\n",
       "}\n",
       "\n",
       "#sk-container-id-1 input.sk-hidden--visually {\n",
       "  border: 0;\n",
       "  clip: rect(1px 1px 1px 1px);\n",
       "  clip: rect(1px, 1px, 1px, 1px);\n",
       "  height: 1px;\n",
       "  margin: -1px;\n",
       "  overflow: hidden;\n",
       "  padding: 0;\n",
       "  position: absolute;\n",
       "  width: 1px;\n",
       "}\n",
       "\n",
       "#sk-container-id-1 div.sk-dashed-wrapped {\n",
       "  border: 1px dashed var(--sklearn-color-line);\n",
       "  margin: 0 0.4em 0.5em 0.4em;\n",
       "  box-sizing: border-box;\n",
       "  padding-bottom: 0.4em;\n",
       "  background-color: var(--sklearn-color-background);\n",
       "}\n",
       "\n",
       "#sk-container-id-1 div.sk-container {\n",
       "  /* jupyter's `normalize.less` sets `[hidden] { display: none; }`\n",
       "     but bootstrap.min.css set `[hidden] { display: none !important; }`\n",
       "     so we also need the `!important` here to be able to override the\n",
       "     default hidden behavior on the sphinx rendered scikit-learn.org.\n",
       "     See: https://github.com/scikit-learn/scikit-learn/issues/21755 */\n",
       "  display: inline-block !important;\n",
       "  position: relative;\n",
       "}\n",
       "\n",
       "#sk-container-id-1 div.sk-text-repr-fallback {\n",
       "  display: none;\n",
       "}\n",
       "\n",
       "div.sk-parallel-item,\n",
       "div.sk-serial,\n",
       "div.sk-item {\n",
       "  /* draw centered vertical line to link estimators */\n",
       "  background-image: linear-gradient(var(--sklearn-color-text-on-default-background), var(--sklearn-color-text-on-default-background));\n",
       "  background-size: 2px 100%;\n",
       "  background-repeat: no-repeat;\n",
       "  background-position: center center;\n",
       "}\n",
       "\n",
       "/* Parallel-specific style estimator block */\n",
       "\n",
       "#sk-container-id-1 div.sk-parallel-item::after {\n",
       "  content: \"\";\n",
       "  width: 100%;\n",
       "  border-bottom: 2px solid var(--sklearn-color-text-on-default-background);\n",
       "  flex-grow: 1;\n",
       "}\n",
       "\n",
       "#sk-container-id-1 div.sk-parallel {\n",
       "  display: flex;\n",
       "  align-items: stretch;\n",
       "  justify-content: center;\n",
       "  background-color: var(--sklearn-color-background);\n",
       "  position: relative;\n",
       "}\n",
       "\n",
       "#sk-container-id-1 div.sk-parallel-item {\n",
       "  display: flex;\n",
       "  flex-direction: column;\n",
       "}\n",
       "\n",
       "#sk-container-id-1 div.sk-parallel-item:first-child::after {\n",
       "  align-self: flex-end;\n",
       "  width: 50%;\n",
       "}\n",
       "\n",
       "#sk-container-id-1 div.sk-parallel-item:last-child::after {\n",
       "  align-self: flex-start;\n",
       "  width: 50%;\n",
       "}\n",
       "\n",
       "#sk-container-id-1 div.sk-parallel-item:only-child::after {\n",
       "  width: 0;\n",
       "}\n",
       "\n",
       "/* Serial-specific style estimator block */\n",
       "\n",
       "#sk-container-id-1 div.sk-serial {\n",
       "  display: flex;\n",
       "  flex-direction: column;\n",
       "  align-items: center;\n",
       "  background-color: var(--sklearn-color-background);\n",
       "  padding-right: 1em;\n",
       "  padding-left: 1em;\n",
       "}\n",
       "\n",
       "\n",
       "/* Toggleable style: style used for estimator/Pipeline/ColumnTransformer box that is\n",
       "clickable and can be expanded/collapsed.\n",
       "- Pipeline and ColumnTransformer use this feature and define the default style\n",
       "- Estimators will overwrite some part of the style using the `sk-estimator` class\n",
       "*/\n",
       "\n",
       "/* Pipeline and ColumnTransformer style (default) */\n",
       "\n",
       "#sk-container-id-1 div.sk-toggleable {\n",
       "  /* Default theme specific background. It is overwritten whether we have a\n",
       "  specific estimator or a Pipeline/ColumnTransformer */\n",
       "  background-color: var(--sklearn-color-background);\n",
       "}\n",
       "\n",
       "/* Toggleable label */\n",
       "#sk-container-id-1 label.sk-toggleable__label {\n",
       "  cursor: pointer;\n",
       "  display: block;\n",
       "  width: 100%;\n",
       "  margin-bottom: 0;\n",
       "  padding: 0.5em;\n",
       "  box-sizing: border-box;\n",
       "  text-align: center;\n",
       "}\n",
       "\n",
       "#sk-container-id-1 label.sk-toggleable__label-arrow:before {\n",
       "  /* Arrow on the left of the label */\n",
       "  content: \"▸\";\n",
       "  float: left;\n",
       "  margin-right: 0.25em;\n",
       "  color: var(--sklearn-color-icon);\n",
       "}\n",
       "\n",
       "#sk-container-id-1 label.sk-toggleable__label-arrow:hover:before {\n",
       "  color: var(--sklearn-color-text);\n",
       "}\n",
       "\n",
       "/* Toggleable content - dropdown */\n",
       "\n",
       "#sk-container-id-1 div.sk-toggleable__content {\n",
       "  max-height: 0;\n",
       "  max-width: 0;\n",
       "  overflow: hidden;\n",
       "  text-align: left;\n",
       "  /* unfitted */\n",
       "  background-color: var(--sklearn-color-unfitted-level-0);\n",
       "}\n",
       "\n",
       "#sk-container-id-1 div.sk-toggleable__content.fitted {\n",
       "  /* fitted */\n",
       "  background-color: var(--sklearn-color-fitted-level-0);\n",
       "}\n",
       "\n",
       "#sk-container-id-1 div.sk-toggleable__content pre {\n",
       "  margin: 0.2em;\n",
       "  border-radius: 0.25em;\n",
       "  color: var(--sklearn-color-text);\n",
       "  /* unfitted */\n",
       "  background-color: var(--sklearn-color-unfitted-level-0);\n",
       "}\n",
       "\n",
       "#sk-container-id-1 div.sk-toggleable__content.fitted pre {\n",
       "  /* unfitted */\n",
       "  background-color: var(--sklearn-color-fitted-level-0);\n",
       "}\n",
       "\n",
       "#sk-container-id-1 input.sk-toggleable__control:checked~div.sk-toggleable__content {\n",
       "  /* Expand drop-down */\n",
       "  max-height: 200px;\n",
       "  max-width: 100%;\n",
       "  overflow: auto;\n",
       "}\n",
       "\n",
       "#sk-container-id-1 input.sk-toggleable__control:checked~label.sk-toggleable__label-arrow:before {\n",
       "  content: \"▾\";\n",
       "}\n",
       "\n",
       "/* Pipeline/ColumnTransformer-specific style */\n",
       "\n",
       "#sk-container-id-1 div.sk-label input.sk-toggleable__control:checked~label.sk-toggleable__label {\n",
       "  color: var(--sklearn-color-text);\n",
       "  background-color: var(--sklearn-color-unfitted-level-2);\n",
       "}\n",
       "\n",
       "#sk-container-id-1 div.sk-label.fitted input.sk-toggleable__control:checked~label.sk-toggleable__label {\n",
       "  background-color: var(--sklearn-color-fitted-level-2);\n",
       "}\n",
       "\n",
       "/* Estimator-specific style */\n",
       "\n",
       "/* Colorize estimator box */\n",
       "#sk-container-id-1 div.sk-estimator input.sk-toggleable__control:checked~label.sk-toggleable__label {\n",
       "  /* unfitted */\n",
       "  background-color: var(--sklearn-color-unfitted-level-2);\n",
       "}\n",
       "\n",
       "#sk-container-id-1 div.sk-estimator.fitted input.sk-toggleable__control:checked~label.sk-toggleable__label {\n",
       "  /* fitted */\n",
       "  background-color: var(--sklearn-color-fitted-level-2);\n",
       "}\n",
       "\n",
       "#sk-container-id-1 div.sk-label label.sk-toggleable__label,\n",
       "#sk-container-id-1 div.sk-label label {\n",
       "  /* The background is the default theme color */\n",
       "  color: var(--sklearn-color-text-on-default-background);\n",
       "}\n",
       "\n",
       "/* On hover, darken the color of the background */\n",
       "#sk-container-id-1 div.sk-label:hover label.sk-toggleable__label {\n",
       "  color: var(--sklearn-color-text);\n",
       "  background-color: var(--sklearn-color-unfitted-level-2);\n",
       "}\n",
       "\n",
       "/* Label box, darken color on hover, fitted */\n",
       "#sk-container-id-1 div.sk-label.fitted:hover label.sk-toggleable__label.fitted {\n",
       "  color: var(--sklearn-color-text);\n",
       "  background-color: var(--sklearn-color-fitted-level-2);\n",
       "}\n",
       "\n",
       "/* Estimator label */\n",
       "\n",
       "#sk-container-id-1 div.sk-label label {\n",
       "  font-family: monospace;\n",
       "  font-weight: bold;\n",
       "  display: inline-block;\n",
       "  line-height: 1.2em;\n",
       "}\n",
       "\n",
       "#sk-container-id-1 div.sk-label-container {\n",
       "  text-align: center;\n",
       "}\n",
       "\n",
       "/* Estimator-specific */\n",
       "#sk-container-id-1 div.sk-estimator {\n",
       "  font-family: monospace;\n",
       "  border: 1px dotted var(--sklearn-color-border-box);\n",
       "  border-radius: 0.25em;\n",
       "  box-sizing: border-box;\n",
       "  margin-bottom: 0.5em;\n",
       "  /* unfitted */\n",
       "  background-color: var(--sklearn-color-unfitted-level-0);\n",
       "}\n",
       "\n",
       "#sk-container-id-1 div.sk-estimator.fitted {\n",
       "  /* fitted */\n",
       "  background-color: var(--sklearn-color-fitted-level-0);\n",
       "}\n",
       "\n",
       "/* on hover */\n",
       "#sk-container-id-1 div.sk-estimator:hover {\n",
       "  /* unfitted */\n",
       "  background-color: var(--sklearn-color-unfitted-level-2);\n",
       "}\n",
       "\n",
       "#sk-container-id-1 div.sk-estimator.fitted:hover {\n",
       "  /* fitted */\n",
       "  background-color: var(--sklearn-color-fitted-level-2);\n",
       "}\n",
       "\n",
       "/* Specification for estimator info (e.g. \"i\" and \"?\") */\n",
       "\n",
       "/* Common style for \"i\" and \"?\" */\n",
       "\n",
       ".sk-estimator-doc-link,\n",
       "a:link.sk-estimator-doc-link,\n",
       "a:visited.sk-estimator-doc-link {\n",
       "  float: right;\n",
       "  font-size: smaller;\n",
       "  line-height: 1em;\n",
       "  font-family: monospace;\n",
       "  background-color: var(--sklearn-color-background);\n",
       "  border-radius: 1em;\n",
       "  height: 1em;\n",
       "  width: 1em;\n",
       "  text-decoration: none !important;\n",
       "  margin-left: 1ex;\n",
       "  /* unfitted */\n",
       "  border: var(--sklearn-color-unfitted-level-1) 1pt solid;\n",
       "  color: var(--sklearn-color-unfitted-level-1);\n",
       "}\n",
       "\n",
       ".sk-estimator-doc-link.fitted,\n",
       "a:link.sk-estimator-doc-link.fitted,\n",
       "a:visited.sk-estimator-doc-link.fitted {\n",
       "  /* fitted */\n",
       "  border: var(--sklearn-color-fitted-level-1) 1pt solid;\n",
       "  color: var(--sklearn-color-fitted-level-1);\n",
       "}\n",
       "\n",
       "/* On hover */\n",
       "div.sk-estimator:hover .sk-estimator-doc-link:hover,\n",
       ".sk-estimator-doc-link:hover,\n",
       "div.sk-label-container:hover .sk-estimator-doc-link:hover,\n",
       ".sk-estimator-doc-link:hover {\n",
       "  /* unfitted */\n",
       "  background-color: var(--sklearn-color-unfitted-level-3);\n",
       "  color: var(--sklearn-color-background);\n",
       "  text-decoration: none;\n",
       "}\n",
       "\n",
       "div.sk-estimator.fitted:hover .sk-estimator-doc-link.fitted:hover,\n",
       ".sk-estimator-doc-link.fitted:hover,\n",
       "div.sk-label-container:hover .sk-estimator-doc-link.fitted:hover,\n",
       ".sk-estimator-doc-link.fitted:hover {\n",
       "  /* fitted */\n",
       "  background-color: var(--sklearn-color-fitted-level-3);\n",
       "  color: var(--sklearn-color-background);\n",
       "  text-decoration: none;\n",
       "}\n",
       "\n",
       "/* Span, style for the box shown on hovering the info icon */\n",
       ".sk-estimator-doc-link span {\n",
       "  display: none;\n",
       "  z-index: 9999;\n",
       "  position: relative;\n",
       "  font-weight: normal;\n",
       "  right: .2ex;\n",
       "  padding: .5ex;\n",
       "  margin: .5ex;\n",
       "  width: min-content;\n",
       "  min-width: 20ex;\n",
       "  max-width: 50ex;\n",
       "  color: var(--sklearn-color-text);\n",
       "  box-shadow: 2pt 2pt 4pt #999;\n",
       "  /* unfitted */\n",
       "  background: var(--sklearn-color-unfitted-level-0);\n",
       "  border: .5pt solid var(--sklearn-color-unfitted-level-3);\n",
       "}\n",
       "\n",
       ".sk-estimator-doc-link.fitted span {\n",
       "  /* fitted */\n",
       "  background: var(--sklearn-color-fitted-level-0);\n",
       "  border: var(--sklearn-color-fitted-level-3);\n",
       "}\n",
       "\n",
       ".sk-estimator-doc-link:hover span {\n",
       "  display: block;\n",
       "}\n",
       "\n",
       "/* \"?\"-specific style due to the `<a>` HTML tag */\n",
       "\n",
       "#sk-container-id-1 a.estimator_doc_link {\n",
       "  float: right;\n",
       "  font-size: 1rem;\n",
       "  line-height: 1em;\n",
       "  font-family: monospace;\n",
       "  background-color: var(--sklearn-color-background);\n",
       "  border-radius: 1rem;\n",
       "  height: 1rem;\n",
       "  width: 1rem;\n",
       "  text-decoration: none;\n",
       "  /* unfitted */\n",
       "  color: var(--sklearn-color-unfitted-level-1);\n",
       "  border: var(--sklearn-color-unfitted-level-1) 1pt solid;\n",
       "}\n",
       "\n",
       "#sk-container-id-1 a.estimator_doc_link.fitted {\n",
       "  /* fitted */\n",
       "  border: var(--sklearn-color-fitted-level-1) 1pt solid;\n",
       "  color: var(--sklearn-color-fitted-level-1);\n",
       "}\n",
       "\n",
       "/* On hover */\n",
       "#sk-container-id-1 a.estimator_doc_link:hover {\n",
       "  /* unfitted */\n",
       "  background-color: var(--sklearn-color-unfitted-level-3);\n",
       "  color: var(--sklearn-color-background);\n",
       "  text-decoration: none;\n",
       "}\n",
       "\n",
       "#sk-container-id-1 a.estimator_doc_link.fitted:hover {\n",
       "  /* fitted */\n",
       "  background-color: var(--sklearn-color-fitted-level-3);\n",
       "}\n",
       "</style><div id=\"sk-container-id-1\" class=\"sk-top-container\"><div class=\"sk-text-repr-fallback\"><pre>Pipeline(steps=[(&#x27;countvectorizer&#x27;,\n",
       "                 CountVectorizer(analyzer=&#x27;char&#x27;, max_features=1)),\n",
       "                (&#x27;multinomialnb&#x27;, MultinomialNB())])</pre><b>In a Jupyter environment, please rerun this cell to show the HTML representation or trust the notebook. <br />On GitHub, the HTML representation is unable to render, please try loading this page with nbviewer.org.</b></div><div class=\"sk-container\" hidden><div class=\"sk-item sk-dashed-wrapped\"><div class=\"sk-label-container\"><div class=\"sk-label fitted sk-toggleable\"><input class=\"sk-toggleable__control sk-hidden--visually\" id=\"sk-estimator-id-1\" type=\"checkbox\" ><label for=\"sk-estimator-id-1\" class=\"sk-toggleable__label fitted sk-toggleable__label-arrow fitted\">&nbsp;&nbsp;Pipeline<a class=\"sk-estimator-doc-link fitted\" rel=\"noreferrer\" target=\"_blank\" href=\"https://scikit-learn.org/1.4/modules/generated/sklearn.pipeline.Pipeline.html\">?<span>Documentation for Pipeline</span></a><span class=\"sk-estimator-doc-link fitted\">i<span>Fitted</span></span></label><div class=\"sk-toggleable__content fitted\"><pre>Pipeline(steps=[(&#x27;countvectorizer&#x27;,\n",
       "                 CountVectorizer(analyzer=&#x27;char&#x27;, max_features=1)),\n",
       "                (&#x27;multinomialnb&#x27;, MultinomialNB())])</pre></div> </div></div><div class=\"sk-serial\"><div class=\"sk-item\"><div class=\"sk-estimator fitted sk-toggleable\"><input class=\"sk-toggleable__control sk-hidden--visually\" id=\"sk-estimator-id-2\" type=\"checkbox\" ><label for=\"sk-estimator-id-2\" class=\"sk-toggleable__label fitted sk-toggleable__label-arrow fitted\">&nbsp;CountVectorizer<a class=\"sk-estimator-doc-link fitted\" rel=\"noreferrer\" target=\"_blank\" href=\"https://scikit-learn.org/1.4/modules/generated/sklearn.feature_extraction.text.CountVectorizer.html\">?<span>Documentation for CountVectorizer</span></a></label><div class=\"sk-toggleable__content fitted\"><pre>CountVectorizer(analyzer=&#x27;char&#x27;, max_features=1)</pre></div> </div></div><div class=\"sk-item\"><div class=\"sk-estimator fitted sk-toggleable\"><input class=\"sk-toggleable__control sk-hidden--visually\" id=\"sk-estimator-id-3\" type=\"checkbox\" ><label for=\"sk-estimator-id-3\" class=\"sk-toggleable__label fitted sk-toggleable__label-arrow fitted\">&nbsp;MultinomialNB<a class=\"sk-estimator-doc-link fitted\" rel=\"noreferrer\" target=\"_blank\" href=\"https://scikit-learn.org/1.4/modules/generated/sklearn.naive_bayes.MultinomialNB.html\">?<span>Documentation for MultinomialNB</span></a></label><div class=\"sk-toggleable__content fitted\"><pre>MultinomialNB()</pre></div> </div></div></div></div></div></div>"
      ],
      "text/plain": [
       "Pipeline(steps=[('countvectorizer',\n",
       "                 CountVectorizer(analyzer='char', max_features=1)),\n",
       "                ('multinomialnb', MultinomialNB())])"
      ]
     },
     "execution_count": 37,
     "metadata": {},
     "output_type": "execute_result"
    }
   ],
   "source": [
    "#Train the model\n",
    "model_sk.fit(x_train, y_train)"
   ]
  },
  {
   "cell_type": "code",
   "execution_count": 38,
   "id": "9a29fe4c-07c5-44c6-8620-1e532682ded7",
   "metadata": {},
   "outputs": [
    {
     "name": "stdout",
     "output_type": "stream",
     "text": [
      "0.6318403771678733\n"
     ]
    }
   ],
   "source": [
    "#Predict and evaluate accuracy\n",
    "y_pred_sk = model_sk.predict(x_test)\n",
    "accuracy_sk = accuracy_score(y_test, y_pred_sk)\n",
    "print(accuracy_sk)"
   ]
  },
  {
   "cell_type": "code",
   "execution_count": null,
   "id": "cb77d1c0-cdb2-4827-9541-dd526f205088",
   "metadata": {},
   "outputs": [],
   "source": []
  },
  {
   "cell_type": "markdown",
   "id": "5893d787-8d93-4b53-b894-6a932789259d",
   "metadata": {
    "id": "5893d787-8d93-4b53-b894-6a932789259d"
   },
   "source": [
    "# Using spacy"
   ]
  },
  {
   "cell_type": "code",
   "execution_count": null,
   "id": "c078455f-fde0-4565-9414-43f32178d9be",
   "metadata": {
    "colab": {
     "base_uri": "https://localhost:8080/"
    },
    "id": "c078455f-fde0-4565-9414-43f32178d9be",
    "outputId": "7227430c-7c91-42a3-f8e3-e2353f0bf9e9"
   },
   "outputs": [
    {
     "name": "stdout",
     "output_type": "stream",
     "text": [
      "Accuracy (SpaCy): 0.8283609576427255\n"
     ]
    }
   ],
   "source": [
    "import spacy\n",
    "import random\n",
    "import numpy as np\n",
    "import pandas as pd\n",
    "from sklearn.feature_extraction import DictVectorizer\n",
    "from sklearn.naive_bayes import MultinomialNB\n",
    "from sklearn.model_selection import train_test_split\n",
    "from sklearn.metrics import accuracy_score\n",
    "\n",
    "# Load the English language model\n",
    "nlp = spacy.load(\"en_core_web_sm\")\n",
    "\n",
    "# Load the dataset from your CSV file\n",
    "df = pd.read_csv('/content/name_gender.csv')\n",
    "\n",
    "df_new = df.iloc[:,[0,1]].dropna()\n",
    "df_new.columns = ['Name', 'Gender']\n",
    "df = df_new\n",
    "\n",
    "# Assume your CSV has columns 'Name' and 'Gender'\n",
    "names = df['Name'].tolist()\n",
    "genders = df['Gender'].tolist()\n",
    "\n",
    "# Combine names and genders\n",
    "all_names = list(zip(names, genders))\n",
    "random.shuffle(all_names)\n",
    "\n",
    "# Separate names and genders after shuffling\n",
    "names, genders = zip(*all_names)\n",
    "\n",
    "# Function to access last two letters and last letter feature\n",
    "def gender_features(name):\n",
    "    if len(name) > 1:\n",
    "        return {'last_letter': name[-1].lower(), 'last_two_letters': name[-2:].lower()}\n",
    "    elif len(name) == 1:\n",
    "        return {'last_letter': name[-1].lower(), 'last_two_letters': name[-1].lower()}  # Handle single character names\n",
    "    else:\n",
    "        return {'last_letter': '', 'last_two_letters': ''}  # Handle empty names\n",
    "\n",
    "# Using SpaCy to extract features\n",
    "def spacy_gender_prediction(name):\n",
    "    # Create a document using SpaCy (you can also use this for more complex feature extraction)\n",
    "    doc = nlp(name)\n",
    "\n",
    "    # Extract features using the same logic\n",
    "    features = gender_features(name)\n",
    "    return features\n",
    "\n",
    "# Extract features for each name using SpaCy\n",
    "spacy_features = [spacy_gender_prediction(name) for name in names]\n",
    "\n",
    "# Use DictVectorizer to convert feature dictionaries to feature matrices\n",
    "vectorizer = DictVectorizer(sparse=False)\n",
    "X = vectorizer.fit_transform(spacy_features)\n",
    "y = np.array(genders)\n",
    "\n",
    "# Train-Test Split\n",
    "X_train, X_test, y_train, y_test = train_test_split(X, y, test_size=0.2, random_state=42)\n",
    "\n",
    "# Train Naive Bayes Model using MultinomialNB\n",
    "clf = MultinomialNB()\n",
    "clf.fit(X_train, y_train)\n",
    "\n",
    "# Predict on test set and evaluate\n",
    "predictions_spacy = clf.predict(X_test)\n",
    "\n",
    "# Calculate accuracy for SpaCy-based predictions\n",
    "spacy_accuracy = accuracy_score(y_test, predictions_spacy)\n",
    "print(f\"Accuracy (SpaCy): {spacy_accuracy}\")"
   ]
  },
  {
   "cell_type": "code",
   "execution_count": null,
   "id": "cb016681-ed21-4ba2-b995-c5cb21993c3f",
   "metadata": {
    "colab": {
     "base_uri": "https://localhost:8080/"
    },
    "id": "cb016681-ed21-4ba2-b995-c5cb21993c3f",
    "outputId": "83b6717b-962d-4008-edb8-921ceba3252a"
   },
   "outputs": [
    {
     "name": "stdout",
     "output_type": "stream",
     "text": [
      "Krunal: M\n",
      "Shubham: M\n",
      "Nikita: F\n",
      "Niraj: M\n"
     ]
    }
   ],
   "source": [
    "import joblib  # Import joblib to save the model\n",
    "# Save the model and vectorizer\n",
    "joblib.dump(clf, 'gender_classifier_model.joblib')\n",
    "joblib.dump(vectorizer, 'gender_vectorizer.joblib')\n",
    "\n",
    "# Function to predict gender for new names\n",
    "def predict_gender(names_list):\n",
    "    # Extract features for new names\n",
    "    new_features = [spacy_gender_prediction(name) for name in names_list]\n",
    "    new_X = vectorizer.transform(new_features)  # Use the saved vectorizer to transform new data\n",
    "    predictions = clf.predict(new_X)  # Use the saved model to make predictions\n",
    "    return predictions\n",
    "\n",
    "# Example usage\n",
    "new_names = ['Krunal', 'Shubham', 'Nikita', 'Niraj']\n",
    "predicted_genders = predict_gender(new_names)\n",
    "for name, gender in zip(new_names, predicted_genders):\n",
    "    print(f\"{name}: {gender}\")"
   ]
  },
  {
   "cell_type": "code",
   "execution_count": null,
   "id": "07d5f9bb",
   "metadata": {
    "id": "cb77d1c0-cdb2-4827-9541-dd526f205088"
   },
   "outputs": [],
   "source": []
  }
 ],
 "metadata": {},
 "nbformat": 4,
 "nbformat_minor": 5
}
